{
 "cells": [
  {
   "cell_type": "code",
   "execution_count": 5,
   "metadata": {},
   "outputs": [
    {
     "name": "stdout",
     "output_type": "stream",
     "text": [
      "1 \n",
      "1 2 \n",
      "1 2 3 \n",
      "1 2 3 4 \n"
     ]
    }
   ],
   "source": [
    "for i in range(1,5):\n",
    "    for j in range(1,5):\n",
    "        if  j<=i:\n",
    "            print(j, end=\" \")\n",
    "    print()"
   ]
  },
  {
   "cell_type": "code",
   "execution_count": 14,
   "metadata": {},
   "outputs": [
    {
     "name": "stdout",
     "output_type": "stream",
     "text": [
      "55\n"
     ]
    }
   ],
   "source": [
    "sum=0\n",
    "# x=int(input())\n",
    "for i in range(1,11):\n",
    "    sum=sum+i\n",
    "print(sum)"
   ]
  },
  {
   "cell_type": "code",
   "execution_count": 18,
   "metadata": {},
   "outputs": [
    {
     "name": "stdout",
     "output_type": "stream",
     "text": [
      "5 4 3 2 1 \n",
      "4 3 2 1 \n",
      "3 2 1 \n",
      "2 1 \n",
      "1 \n"
     ]
    }
   ],
   "source": [
    "for i in range(5,0,-1):\n",
    "    for j in range(5,0,-1):\n",
    "        if j<=i:\n",
    "            print(j,end=\" \")\n",
    "    print()"
   ]
  },
  {
   "cell_type": "code",
   "execution_count": 2,
   "metadata": {},
   "outputs": [
    {
     "name": "stdout",
     "output_type": "stream",
     "text": [
      "2+22+222+2222+22222+246910\n"
     ]
    }
   ],
   "source": [
    "start=2\n",
    "sum=0\n",
    "for i in range(0,5):\n",
    "    print(start,end=\"+\")\n",
    "    start=start*10+2\n",
    "    sum=sum+start\n",
    "print(sum)\n"
   ]
  },
  {
   "cell_type": "code",
   "execution_count": 8,
   "metadata": {},
   "outputs": [
    {
     "name": "stdout",
     "output_type": "stream",
     "text": [
      "Jms\n"
     ]
    }
   ],
   "source": [
    "str1 = \"James\"\n",
    "print(str1[::(len(str1)-1)//2])"
   ]
  },
  {
   "cell_type": "code",
   "execution_count": 13,
   "metadata": {},
   "outputs": [
    {
     "name": "stdout",
     "output_type": "stream",
     "text": [
      "Dip\n"
     ]
    }
   ],
   "source": [
    "str1 = \"JhonDipPeta\"\n",
    "print(str1[(len(str1))//2-1:(len(str1))//2+2])"
   ]
  },
  {
   "cell_type": "code",
   "execution_count": 17,
   "metadata": {},
   "outputs": [
    {
     "name": "stdout",
     "output_type": "stream",
     "text": [
      "AuKellyt\n"
     ]
    }
   ],
   "source": [
    "s1 = \"Ault\"\n",
    "s2 = \"Kelly\"\n",
    "c=s1[:len(s1)//2]+s2+s1[len(s1)//2+1:]\n",
    "print(c)"
   ]
  },
  {
   "cell_type": "code",
   "execution_count": 24,
   "metadata": {},
   "outputs": [
    {
     "name": "stdout",
     "output_type": "stream",
     "text": [
      "AzbycX"
     ]
    }
   ],
   "source": [
    "s1 = \"Abc\"\n",
    "s2 = \"Xyz\"\n",
    "for x,y in zip(s1,s2[::-1]):\n",
    "    print(x,y,end=\"\",sep=\"\")\n"
   ]
  },
  {
   "cell_type": "code",
   "execution_count": 30,
   "metadata": {},
   "outputs": [
    {
     "name": "stdout",
     "output_type": "stream",
     "text": [
      "False\n"
     ]
    }
   ],
   "source": [
    "s1 = \"Ynz\"\n",
    "s2 = \"PYnative\"\n",
    "for i in s1:\n",
    "    if i in s2:\n",
    "        True\n",
    "    else:\n",
    "        False\n",
    "        break\n",
    "        \n",
    "check=True if all(i  in s2 for i in s1)  else False\n",
    "print(check)"
   ]
  },
  {
   "cell_type": "code",
   "execution_count": 40,
   "metadata": {},
   "outputs": [
    {
     "name": "stdout",
     "output_type": "stream",
     "text": [
      "['Welcome', 'to', 'USA.', 'usa', 'awesome,', \"isn't\", 'it?']\n"
     ]
    }
   ],
   "source": [
    "str1 = \"Welcome to USA. usa awesome, isn't it?\"\n",
    "list1=[]\n",
    "st\n",
    "list1=str1.split(' ')\n",
    "print(list1)\n",
    "    \n"
   ]
  }
 ],
 "metadata": {
  "interpreter": {
   "hash": "31f2aee4e71d21fbe5cf8b01ff0e069b9275f58929596ceb00d14d90e3e16cd6"
  },
  "kernelspec": {
   "display_name": "Python 3.8.10 64-bit",
   "language": "python",
   "name": "python3"
  },
  "language_info": {
   "codemirror_mode": {
    "name": "ipython",
    "version": 3
   },
   "file_extension": ".py",
   "mimetype": "text/x-python",
   "name": "python",
   "nbconvert_exporter": "python",
   "pygments_lexer": "ipython3",
   "version": "3.8.10"
  },
  "orig_nbformat": 4
 },
 "nbformat": 4,
 "nbformat_minor": 2
}
